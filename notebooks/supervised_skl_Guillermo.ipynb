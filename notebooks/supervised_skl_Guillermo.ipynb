{
 "cells": [
  {
   "cell_type": "markdown",
   "metadata": {},
   "source": [
    "# This is Guillermo's test version of this code"
   ]
  },
  {
   "cell_type": "code",
   "execution_count": 1,
   "metadata": {},
   "outputs": [
    {
     "name": "stderr",
     "output_type": "stream",
     "text": [
      "Using TensorFlow backend.\n"
     ]
    }
   ],
   "source": [
    "import tensorflow as tf\n",
    "import utils as u\n",
    "import h5py\n",
    "import matplotlib.cm as cm\n",
    "import matplotlib.pyplot as plt\n",
    "import os\n",
    "import numpy as np"
   ]
  },
  {
   "cell_type": "code",
   "execution_count": 2,
   "metadata": {
    "collapsed": true
   },
   "outputs": [],
   "source": [
    "data_folder = '../data/'\n",
    "file_name = 'HCAL_digi+rechit_occ.hdf5'\n",
    "group = 'DigiTask_Occupancy_depth_depth1'\n",
    "\n",
    "input_file=h5py.File(data_folder+\"/\"+file_name,'r')"
   ]
  },
  {
   "cell_type": "markdown",
   "metadata": {},
   "source": [
    "To list all groups "
   ]
  },
  {
   "cell_type": "markdown",
   "metadata": {},
   "source": [
    "I want to see what's inside the file\n",
    "\n",
    "I will print input_file and data_sample \n",
    "\n",
    "I will also want to look at the keys of the file"
   ]
  },
  {
   "cell_type": "code",
   "execution_count": 3,
   "metadata": {},
   "outputs": [
    {
     "name": "stdout",
     "output_type": "stream",
     "text": [
      "(999, 72, 84)\n"
     ]
    }
   ],
   "source": [
    "data_sample = np.array(input_file[group])\n",
    "data = np.array(input_file)\n",
    "data_samplesize=data_sample.shape\n",
    "print data_samplesize\n",
    "data_size=data.shape"
   ]
  },
  {
   "cell_type": "markdown",
   "metadata": {},
   "source": [
    "I would like to print the first entry of this file \n"
   ]
  },
  {
   "cell_type": "code",
   "execution_count": 6,
   "metadata": {},
   "outputs": [
    {
     "name": "stdout",
     "output_type": "stream",
     "text": [
      "Shape of image is:  (72, 84)\n",
      "input image is \n",
      " \n",
      "[[    0.     0.  1350. ...,  1350.     0.     0.]\n",
      " [    0.     0.     0. ...,     0.     0.     0.]\n",
      " [ 1350.  1350.  1350. ...,  1350.  1350.  1350.]\n",
      " ..., \n",
      " [    0.     0.     0. ...,     0.     0.     0.]\n",
      " [ 1350.  1350.  1350. ...,  1350.  1350.  1350.]\n",
      " [    0.     0.     0. ...,     0.     0.     0.]]\n"
     ]
    },
    {
     "data": {
      "image/png": "[encoded data removed]",
      "text/plain": [
       "<matplotlib.figure.Figure at 0x7f1abee78fd0>"
      ]
     },
     "metadata": {},
     "output_type": "display_data"
    }
   ],
   "source": [
    "input_image=data_sample[0]\n",
    "\n",
    "print \"Shape of image is: \",input_image.shape\n",
    "print 'input image is \\n '\n",
    "print input_image\n",
    "\n",
    "im=plt.imshow(input_image,cmap=cm.coolwarm)\n",
    "\n",
    "plt.show()\n",
    "plt.clf()#plt.clf clears the figure and it's axis but leaves the window open. \n",
    "         #as opposed to plt.close which closes the window. If you are showing many images at a time without\n",
    "         #closing the window it is better.\n",
    "        \n",
    "        \n",
    "input_image=np.reshape(input_image,(input_image.shape[0],input_image.shape[1]))\n"
   ]
  },
  {
   "cell_type": "markdown",
   "metadata": {},
   "source": [
    "# Using a for loop to plot the average occupancy map"
   ]
  },
  {
   "cell_type": "markdown",
   "metadata": {},
   "source": [
    "Now I would like to plot the average occupancy graph for this group"
   ]
  },
  {
   "cell_type": "code",
   "execution_count": 7,
   "metadata": {},
   "outputs": [
    {
     "name": "stdout",
     "output_type": "stream",
     "text": [
      "\t\n",
      " the average image is= \n",
      "\n",
      "\n",
      "[[    0.            0.         1564.2982983 ...,  1564.2982983     0.\n",
      "      0.       ]\n",
      " [    0.            0.            0.        ...,     0.            0.\n",
      "      0.       ]\n",
      " [ 1564.2982983  1564.2982983  1564.2982983 ...,  1564.2982983\n",
      "   1564.2982983  1564.2982983]\n",
      " ..., \n",
      " [    0.            0.            0.        ...,     0.            0.\n",
      "      0.       ]\n",
      " [ 1564.2982983  1564.2982983  1564.2982983 ...,  1564.2982983\n",
      "   1564.2982983  1564.2982983]\n",
      " [    0.            0.            0.        ...,     0.            0.\n",
      "      0.       ]]\n",
      " \n",
      " \n",
      " Shape of image is: \n",
      "(72, 84)\n"
     ]
    },
    {
     "data": {
      "image/png": "[encoded data removed]",
      "text/plain": [
       "<matplotlib.figure.Figure at 0x7f1abeb97590>"
      ]
     },
     "metadata": {},
     "output_type": "display_data"
    }
   ],
   "source": [
    "sum_image=np.zeros((data_samplesize[1],data_samplesize[2]))\n",
    "\n",
    "for i in range(data_samplesize[1]):\n",
    "    \n",
    "    for j in range(data_samplesize[2]):\n",
    "        \n",
    "        for input_image in data_sample:\n",
    "            \n",
    "            sum_image[i,j]+=input_image[i,j]\n",
    "            \n",
    "                \n",
    "#print '\\t \\n the sum image is= \\n\\n\\n',sum_image\n",
    "\n",
    "\n",
    "average_image=sum_image/data_samplesize[0]\n",
    "\n",
    "\n",
    "print '\\t\\n the average image is= \\n\\n\\n',average_image\n",
    "\n",
    "    #average_image= np.average(input_image, axis=0, weights=None, returned=False)#average image of rows\n",
    "    #average_image= np.average(input_image,axis=1,weights=None,returned=False)#average image of colums\n",
    "    #average_image= np.average(input_image,axis=None,weights=None,returned=False)#average image of all elements\n",
    "\n",
    "print' \\n \\n Shape of image is: \\n',average_image.shape\n",
    "\n",
    "\n",
    "im=plt.imshow(average_image,cmap=cm.coolwarm)\n",
    "    \n",
    "    \n",
    "plt.show()\n",
    "plt.clf()#plt.clf clears the figure and it's axis but leaves the window open. \n",
    "                 #as opposed to plt.close which closes the window. If you are showing many images at a time without\n",
    "                 #closing the window is better.\n",
    "\n",
    "    #input_image=np.reshape(input_image,(input_image.shape[0],input_image.shape[1]))"
   ]
  },
  {
   "cell_type": "markdown",
   "metadata": {},
   "source": [
    "# Using a vectorized method to plot the average occupancy map"
   ]
  },
  {
   "cell_type": "markdown",
   "metadata": {},
   "source": [
    "To print the mean value of the occupancy map we do the following ( I thank Tielige for this part ) :D"
   ]
  },
  {
   "cell_type": "code",
   "execution_count": 8,
   "metadata": {},
   "outputs": [
    {
     "name": "stdout",
     "output_type": "stream",
     "text": [
      "va mean is : \n",
      "[[    0.            0.         1564.2982983 ...,  1564.2982983     0.\n",
      "      0.       ]\n",
      " [    0.            0.            0.        ...,     0.            0.\n",
      "      0.       ]\n",
      " [ 1564.2982983  1564.2982983  1564.2982983 ...,  1564.2982983\n",
      "   1564.2982983  1564.2982983]\n",
      " ..., \n",
      " [    0.            0.            0.        ...,     0.            0.\n",
      "      0.       ]\n",
      " [ 1564.2982983  1564.2982983  1564.2982983 ...,  1564.2982983\n",
      "   1564.2982983  1564.2982983]\n",
      " [    0.            0.            0.        ...,     0.            0.\n",
      "      0.       ]]\n",
      "('Shape of image is: ', (72, 84))\n"
     ]
    },
    {
     "data": {
      "image/png": "[encoded data removed]",
      "text/plain": [
       "<matplotlib.figure.Figure at 0x7f1abeae0210>"
      ]
     },
     "metadata": {},
     "output_type": "display_data"
    }
   ],
   "source": [
    "va = np.zeros((data_samplesize[1],data_samplesize[2]))\n",
    "\n",
    "for x in data_sample:      \n",
    "    va = va+x\n",
    "    \n",
    "vamean= va/data_samplesize[0]\n",
    "#print ('va is: ' ,va)\n",
    "print 'va mean is : \\n', vamean\n",
    "\n",
    "\n",
    "print('Shape of image is: ',vamean.shape)\n",
    "    #print 'average image is \\n '\n",
    "    #print input_image\n",
    "\n",
    "im=plt.imshow(vamean,cmap=cm.coolwarm)\n",
    "  \n",
    "plt.show()\n",
    "plt.clf() #plt.clf clears the figure and it's axis but leaves the window open. \n",
    "                 #as opposed to plt.close which closes the window. If you are showing many images at a time without\n",
    "                 #closing the window is better.\n",
    "\n",
    "#input_image=np.reshape(input_image,(input_image.shape[0],input_image.shape[1]))\n",
    "\n"
   ]
  },
  {
   "cell_type": "markdown",
   "metadata": {},
   "source": [
    "We would like to verify if both of these methods achived the same calculation"
   ]
  },
  {
   "cell_type": "code",
   "execution_count": 9,
   "metadata": {},
   "outputs": [
    {
     "data": {
      "text/plain": [
       "True"
      ]
     },
     "execution_count": 9,
     "metadata": {},
     "output_type": "execute_result"
    }
   ],
   "source": [
    "\n",
    "np.all (average_image== vamean)"
   ]
  },
  {
   "cell_type": "markdown",
   "metadata": {},
   "source": [
    "\n",
    "# Let's see if we can plot a specific channel with time"
   ]
  },
  {
   "cell_type": "markdown",
   "metadata": {
    "collapsed": true
   },
   "source": [
    "Let's choose the channel in the (50,50) position for all lumisections. This is the same as data_sample[:,50,50]"
   ]
  },
  {
   "cell_type": "code",
   "execution_count": 10,
   "metadata": {
    "scrolled": true
   },
   "outputs": [
    {
     "name": "stdout",
     "output_type": "stream",
     "text": [
      "[  797.   804.   775.   744.   829.  1099.  1071.  1062.  1082.  1159.\n",
      "  1096.  1055.  1106.  1043.  1098.  1066.  1107.  1043.  1096.  1043.\n",
      "  1061.  1114.  1109.  1040.  1138.  1083.  1067.  1096.  1100.  1028.\n",
      "  1077.  1122.  1108.  1144.  1062.  1077.  1036.  1062.  1087.  1040.\n",
      "  1069.  1118.  1093.  1095.  1124.  1028.  1127.  1065.  1077.  1044.\n",
      "  1057.  1011.  1045.  1099.  1053.  1088.  1013.  1052.  1082.  1032.\n",
      "  1113.  1038.  1026.   999.   964.  1000.  1011.  1049.  1059.   970.\n",
      "  1023.   992.  1079.  1026.  1027.  1073.  1044.  1082.  1066.  1063.\n",
      "  1011.  1065.  1059.   778.   184.  1038.   998.  1048.  1011.  1060.\n",
      "  1008.   952.   958.  1033.  1040.   994.  1011.  1020.   963.  1029.\n",
      "  1009.  1006.  1017.  1007.   966.  1081.  1033.  1010.  1016.  1013.\n",
      "   988.   966.  1029.   275.   958.   980.  1031.   994.   942.   927.\n",
      "  1003.  1016.   921.   953.  1004.   936.   936.   963.   552.   952.\n",
      "   978.   936.   892.   939.  1004.   937.   897.   970.   950.   995.\n",
      "   923.   969.   946.   889.   924.   932.   912.   956.   902.   926.\n",
      "   924.   941.   920.   921.   951.   923.   916.   960.   947.   913.\n",
      "   956.   922.   984.   875.   930.   881.   927.   925.   923.   858.\n",
      "   910.   893.   979.   956.   922.   881.   919.   872.   870.   916.\n",
      "   930.   895.   960.   943.   909.   918.   911.   909.   904.   863.\n",
      "   902.   891.   875.   899.   833.   878.   905.   915.   928.   937.\n",
      "   919.   932.   953.   895.   856.   880.   912.   871.   854.   913.\n",
      "   847.   917.   907.   881.   880.   932.   884.   863.   872.   853.\n",
      "   873.   862.   871.   891.   885.   884.   894.   833.   944.   870.\n",
      "   863.   861.   894.   891.   840.   855.   916.   898.   897.   859.\n",
      "   873.   898.   851.   868.   868.   830.   870.   908.   893.   871.\n",
      "   856.   895.   867.   845.   819.   863.   845.   888.   824.   830.\n",
      "   909.   849.   841.   814.   844.   849.   840.   840.   814.   858.\n",
      "   849.   840.   869.   887.   915.   810.   847.   860.   819.   818.\n",
      "   826.   820.   878.   833.   843.   846.   856.   842.   826.   831.\n",
      "   861.   894.   807.   854.   826.   814.   811.   855.   824.   834.\n",
      "   826.   830.   872.   753.   826.   805.   375.   463.   825.   866.\n",
      "   843.   798.   761.   771.   817.   831.   778.   827.   831.   822.\n",
      "   788.   837.   827.   805.   832.   804.   832.   838.   782.   819.\n",
      "   865.   834.   758.   804.   805.   780.   812.   821.   784.   844.\n",
      "   851.   793.   788.   807.   825.   829.   816.   794.   795.   822.\n",
      "   668.   785.   167.   761.   779.   824.   821.   781.   825.   806.\n",
      "   806.   786.   767.   770.   779.   759.   786.   784.   827.   777.\n",
      "   773.   795.   769.   846.   652.   775.   757.   785.   539.   760.\n",
      "   760.   827.   768.   709.   743.   788.   961.   952.   881.   912.\n",
      "   870.   911.   915.   951.   873.   936.   928.   925.   867.   955.\n",
      "   932.   945.   938.   882.   894.   928.   904.   934.   867.   904.\n",
      "   895.   910.   914.   968.   878.   948.   904.   928.   879.   888.\n",
      "   933.   897.   919.   887.   927.   924.   891.   876.   916.   842.\n",
      "   911.   907.   869.   937.   931.   912.   879.   841.   934.   939.\n",
      "   908.   920.   885.   942.   914.   875.   885.   846.   885.   917.\n",
      "   892.   906.   913.   892.   847.   869.   882.   904.   900.   903.\n",
      "   847.   893.   872.   885.   898.   882.   892.   863.   902.   890.\n",
      "   871.   846.   891.   887.   851.   883.   877.   944.   874.   874.\n",
      "   891.   849.   861.   840.   844.   859.   862.   845.   882.   865.\n",
      "   794.   892.   774.   844.   879.   856.   897.   849.   833.   834.\n",
      "   809.   828.   835.   879.   885.   798.   880.   832.   767.   870.\n",
      "   815.   792.   832.   874.   832.   853.   890.   872.   772.   845.\n",
      "   831.   847.   898.   843.   865.   867.   849.   878.   843.   853.\n",
      "   872.   874.   867.   858.   841.   881.   836.   831.   872.   808.\n",
      "   849.   846.   826.   729.   838.   796.   858.   788.   859.   834.\n",
      "   843.   929.   769.   802.   918.   835.   841.   855.   835.   873.\n",
      "   835.   825.   852.   808.   840.   764.   810.   799.   823.   812.\n",
      "   814.   803.   845.   759.   857.   804.   853.   856.   789.   789.\n",
      "   857.   804.   810.   807.   818.   832.   815.   826.   819.   799.\n",
      "   846.   820.   810.   808.   785.   798.   768.   826.   862.   774.\n",
      "   861.   772.   843.   812.   834.   817.   795.   774.   771.   789.\n",
      "   853.   780.   811.   884.   779.   817.   805.   832.   787.   817.\n",
      "   820.   785.   769.   819.   788.   835.   784.   796.   758.   836.\n",
      "   777.   448.   784.   852.   796.   795.   804.   724.   780.   831.\n",
      "   788.   795.   784.   794.   802.   788.   821.   808.   763.   752.\n",
      "   785.   806.   761.   827.   779.   826.   856.   808.   759.   817.\n",
      "   738.   722.   783.   786.   819.   784.   796.   783.   787.   830.\n",
      "   791.   762.   760.   771.   771.   738.   757.   803.   763.   782.\n",
      "   768.   781.   745.   774.   799.   800.   759.   787.   759.   733.\n",
      "   810.   812.   786.   765.   845.   737.   781.   735.   801.   780.\n",
      "   745.   786.   708.   767.   814.   736.   786.   772.   758.   768.\n",
      "   761.   800.   817.   742.   782.   728.   711.   748.   673.   747.\n",
      "   746.   729.   788.   754.   752.   755.   756.   736.   745.   735.\n",
      "   763.   764.   738.   714.   778.   799.   719.   701.   775.   772.\n",
      "   711.   740.   714.   732.   746.   772.   759.   780.   733.   776.\n",
      "   747.   723.   773.   762.   714.   695.   734.   708.   739.   727.\n",
      "   723.   720.   689.   521.   785.   710.   759.   736.   687.   704.\n",
      "   690.   746.   766.   749.   740.   740.   752.   697.   727.   535.\n",
      "   460.   724.   732.   732.   659.   721.   677.   746.   731.   724.\n",
      "   698.   754.   723.   714.   606.   623.   749.   756.   688.   709.\n",
      "   675.   742.   697.   705.   677.   732.   697.   748.   699.   713.\n",
      "   720.   771.   725.   694.   765.   693.   710.   721.   692.   698.\n",
      "   729.   638.   701.   783.   697.   689.   769.   703.   691.   718.\n",
      "   675.   730.   717.   651.   686.   775.   724.   672.   734.   698.\n",
      "   731.   676.   706.   720.   685.   722.   730.   674.   668.   665.\n",
      "   713.   720.   662.   720.   742.   661.   745.   631.   685.   700.\n",
      "   706.   632.   686.   679.   682.   662.   693.   682.   684.   644.\n",
      "   651.   698.   692.   715.   692.   706.   714.   665.   692.   679.\n",
      "   673.   691.   672.   677.   634.   685.   687.   670.   716.   726.\n",
      "   700.   749.   674.   681.   682.   669.   694.   677.   690.   702.\n",
      "   661.   669.   529.   526.   500.   649.   665.   640.   695.   679.\n",
      "   677.   701.   685.   650.   691.   645.   636.   707.   689.   676.\n",
      "   612.   676.   683.   629.   162.   601.   669.   650.   649.   671.\n",
      "   676.   669.   694.   658.   659.   669.   679.   626.   679.   650.\n",
      "   652.   692.   607.   714.   659.   678.   633.   695.   677.   633.\n",
      "   637.   689.   673.   643.   634.   659.   656.   687.   657.   618.\n",
      "   657.   652.   713.   618.   644.   638.   635.   674.   636.   665.\n",
      "   637.   676.   618.   628.   663.   654.   620.   633.   634.   630.\n",
      "   698.   642.   674.   641.   677.   671.   636.   653.   648.   688.\n",
      "   646.   650.   626.   658.   636.   678.   640.   659.   608.]\n",
      "(999,)\n",
      "821.182\n",
      "35.7035734757\n"
     ]
    }
   ],
   "source": [
    "a=data_sample[:,50,50]\n",
    "print a\n",
    "print a.shape\n",
    "print np.mean(a)\n",
    "print np.mean(a)/23"
   ]
  },
  {
   "cell_type": "code",
   "execution_count": 11,
   "metadata": {},
   "outputs": [
    {
     "data": {
      "image/png": "[encoded data removed]",
      "text/plain": [
       "<matplotlib.figure.Figure at 0x7f1abea1afd0>"
      ]
     },
     "metadata": {},
     "output_type": "display_data"
    }
   ],
   "source": [
    "plt.plot(a,'.')\n",
    "plt.xlabel('Lumisection')\n",
    "plt.ylabel('Occupancy in channel (50,50)')\n",
    "plt.show()"
   ]
  },
  {
   "cell_type": "markdown",
   "metadata": {
    "collapsed": true
   },
   "source": [
    "# Lets read a different group in the file"
   ]
  },
  {
   "cell_type": "code",
   "execution_count": 12,
   "metadata": {},
   "outputs": [
    {
     "name": "stdout",
     "output_type": "stream",
     "text": [
      "[[[    0.     0.  1350. ...,  1350.     0.     0.]\n",
      "  [    0.     0.     0. ...,     0.     0.     0.]\n",
      "  [ 1350.  1350.  1350. ...,  1350.  1350.  1350.]\n",
      "  ..., \n",
      "  [    0.     0.     0. ...,     0.     0.     0.]\n",
      "  [ 1350.  1350.  1350. ...,  1350.  1350.  1350.]\n",
      "  [    0.     0.     0. ...,     0.     0.     0.]]\n",
      "\n",
      " [[    0.     0.  1379. ...,  1379.     0.     0.]\n",
      "  [    0.     0.     0. ...,     0.     0.     0.]\n",
      "  [ 1379.  1379.  1379. ...,  1379.  1379.  1379.]\n",
      "  ..., \n",
      "  [    0.     0.     0. ...,     0.     0.     0.]\n",
      "  [ 1379.  1379.  1379. ...,  1379.  1379.  1379.]\n",
      "  [    0.     0.     0. ...,     0.     0.     0.]]\n",
      "\n",
      " [[    0.     0.  1366. ...,  1366.     0.     0.]\n",
      "  [    0.     0.     0. ...,     0.     0.     0.]\n",
      "  [ 1366.  1366.  1365. ...,  1366.  1366.  1366.]\n",
      "  ..., \n",
      "  [    0.     0.     0. ...,     0.     0.     0.]\n",
      "  [ 1366.  1366.  1366. ...,  1366.  1366.  1366.]\n",
      "  [    0.     0.     0. ...,     0.     0.     0.]]\n",
      "\n",
      " ..., \n",
      " [[    0.     0.  1285. ...,  1285.     0.     0.]\n",
      "  [    0.     0.     0. ...,     0.     0.     0.]\n",
      "  [ 1285.  1285.  1285. ...,  1285.  1285.  1285.]\n",
      "  ..., \n",
      "  [    0.     0.     0. ...,     0.     0.     0.]\n",
      "  [ 1285.  1285.  1284. ...,  1285.  1285.  1285.]\n",
      "  [    0.     0.     0. ...,     0.     0.     0.]]\n",
      "\n",
      " [[    0.     0.  1295. ...,  1295.     0.     0.]\n",
      "  [    0.     0.     0. ...,     0.     0.     0.]\n",
      "  [ 1295.  1295.  1295. ...,  1295.  1295.  1295.]\n",
      "  ..., \n",
      "  [    0.     0.     0. ...,     0.     0.     0.]\n",
      "  [ 1295.  1295.  1295. ...,  1295.  1295.  1295.]\n",
      "  [    0.     0.     0. ...,     0.     0.     0.]]\n",
      "\n",
      " [[    0.     0.  1268. ...,  1268.     0.     0.]\n",
      "  [    0.     0.     0. ...,     0.     0.     0.]\n",
      "  [ 1268.  1268.  1268. ...,  1268.  1267.  1268.]\n",
      "  ..., \n",
      "  [    0.     0.     0. ...,     0.     0.     0.]\n",
      "  [ 1268.  1268.  1268. ...,  1268.  1268.  1268.]\n",
      "  [    0.     0.     0. ...,     0.     0.     0.]]]\n",
      "RecHitTask_Occupancy_depth_depth1\n",
      "(999, 72, 84)\n",
      "[u'DigiTask_Occupancy_depth_depth1' u'DigiTask_Occupancy_depth_depth2'\n",
      " u'DigiTask_Occupancy_depth_depth3' u'DigiTask_Occupancy_depth_depth4'\n",
      " u'DigiTask_Occupancy_depth_depth5' u'DigiTask_Occupancy_depth_depth6'\n",
      " u'DigiTask_Occupancy_depth_depth7' u'RecHitTask_Occupancy_depth_depth1'\n",
      " u'RecHitTask_Occupancy_depth_depth2' u'RecHitTask_Occupancy_depth_depth3'\n",
      " u'RecHitTask_Occupancy_depth_depth4' u'RecHitTask_Occupancy_depth_depth5'\n",
      " u'RecHitTask_Occupancy_depth_depth6' u'RecHitTask_Occupancy_depth_depth7']\n",
      "Shape of image is:  (72, 84)\n",
      "input image is \n",
      " \n",
      "[[    0.     0.  1379. ...,  1379.     0.     0.]\n",
      " [    0.     0.     0. ...,     0.     0.     0.]\n",
      " [ 1379.  1379.  1379. ...,  1379.  1379.  1379.]\n",
      " ..., \n",
      " [    0.     0.     0. ...,     0.     0.     0.]\n",
      " [ 1379.  1379.  1379. ...,  1379.  1379.  1379.]\n",
      " [    0.     0.     0. ...,     0.     0.     0.]]\n"
     ]
    },
    {
     "data": {
      "image/png": "[encoded data removed]",
      "text/plain": [
       "<matplotlib.figure.Figure at 0x7f1abe9f0690>"
      ]
     },
     "metadata": {},
     "output_type": "display_data"
    }
   ],
   "source": [
    "data_folder = '../data/'\n",
    "file_name = 'HCAL_digi+rechit_occ.hdf5'\n",
    "group = 'RecHitTask_Occupancy_depth_depth1'\n",
    "\n",
    "input_file=h5py.File(data_folder+\"/\"+file_name,'r')\n",
    "\n",
    "data1 = np.array(input_file)\n",
    "data_size1=data.shape\n",
    "\n",
    "data_sample1 = np.array(input_file[group])\n",
    "data_samplesize1=data_sample.shape\n",
    "\n",
    "\n",
    "\n",
    "print data_sample1\n",
    "print group\n",
    "'''[u'DigiTask_Occupancy_depth_depth1' u'DigiTask_Occupancy_depth_depth2'\n",
    " u'DigiTask_Occupancy_depth_depth3' u'DigiTask_Occupancy_depth_depth4'\n",
    " u'DigiTask_Occupancy_depth_depth5' u'DigiTask_Occupancy_depth_depth6'\n",
    " u'DigiTask_Occupancy_depth_depth7' u'RecHitTask_Occupancy_depth_depth1'\n",
    " u'RecHitTask_Occupancy_depth_depth2' u'RecHitTask_Occupancy_depth_depth3'\n",
    " u'RecHitTask_Occupancy_depth_depth4' u'RecHitTask_Occupancy_depth_depth5'\n",
    " u'RecHitTask_Occupancy_depth_depth6' u'RecHitTask_Occupancy_depth_depth7']\n",
    " '''\n",
    "print data_samplesize1\n",
    "print data1\n",
    "\n",
    "\n",
    "input_image1=data_sample1[1]\n",
    "\n",
    "print \"Shape of image is: \",input_image1.shape\n",
    "print 'input image is \\n '\n",
    "print input_image1\n",
    "\n",
    "im=plt.imshow(input_image1,cmap=cm.coolwarm)\n",
    "\n",
    "plt.show()\n",
    "plt.clf()#plt.clf clears the figure and it's axis but leaves the window open. \n",
    "         #as opposed to plt.close which closes the window. If you are showing many images at a time without\n",
    "         #closing the window it is better.\n",
    "        \n",
    "        \n",
    "#input_image=np.reshape(input_image,(input_image.shape[0],input_image.shape[1]))"
   ]
  },
  {
   "cell_type": "markdown",
   "metadata": {},
   "source": [
    "# I want to see if my kill region function and my hot region function work"
   ]
  },
  {
   "cell_type": "raw",
   "metadata": {
    "collapsed": true
   },
   "source": [
    "def killregion(image,xdim,ydim):  \n",
    "    tempX=image.copy()\n",
    "    x1=xdim[0]\n",
    "    x2=xdim[1]\n",
    "    y1=ydim[0]\n",
    "    y2=ydim[1]\n",
    "    if tempX.ndim ==3:\n",
    "        \n",
    "        for k in range(tempX.shape[0]):\n",
    "            \n",
    "            for i in range(x1,x2):\n",
    "                \n",
    "                for j in range(y1,y2):\n",
    "                    \n",
    "                    tempX[k,j,i]=0\n",
    "    \n",
    "    else:\n",
    "        \n",
    "        for i in range(x1,x2):\n",
    "            \n",
    "            for j in range(y1,y2):\n",
    "                \n",
    "                tempX[j,i]=0\n",
    "                \n",
    "    return tempX\n",
    "\n",
    "\n",
    "#help (np.zeros)\n",
    "def hotregion(image,xdim,ydim):  \n",
    "    tempX=image.copy()\n",
    "    x1=xdim[0]\n",
    "    x2=xdim[1]\n",
    "    y1=ydim[0]\n",
    "    y2=ydim[1]\n",
    "    if tempX.ndim ==3:\n",
    "        \n",
    "        for k in range(tempX.shape[0]):\n",
    "            \n",
    "            for i in range(x1,x2):\n",
    "                \n",
    "                for j in range(y1,y2):\n",
    "                    \n",
    "                    tempX[k,j,i]=np.max(image)\n",
    "    else:\n",
    "        \n",
    "        for i in range(x1,x2):\n",
    "            \n",
    "            for j in range(y1,y2):\n",
    "                \n",
    "                tempX[j,i]=np.max(image)\n",
    "                \n",
    "    return tempX"
   ]
  },
  {
   "cell_type": "markdown",
   "metadata": {},
   "source": [
    "Let's randomize this so that the region being killed is random"
   ]
  },
  {
   "cell_type": "raw",
   "metadata": {
    "collapsed": true
   },
   "source": [
    "def create_random_noise_region_in_image(image,xdim,ydim):\n",
    "    \n",
    "    \n",
    "    tempX=image.copy()\n",
    "    x1=xdim[0]\n",
    "    x2=xdim[1]\n",
    "    y1=ydim[0]\n",
    "    y2=ydim[1]\n",
    "    rand_noise_image=np.random.randint(np.max(data_sample1), size=( abs(x2-x1), abs(y2-y1) ) )   \n",
    "   \n",
    "    if tempX.ndim == 3:\n",
    "        \n",
    "        for k in range(tempX.shape[0]):\n",
    "            \n",
    "            for i in range(x1,x2):\n",
    "                \n",
    "                for j in range(y1,y2):\n",
    "                    te = i-x1\n",
    "                    te2= j-y1\n",
    "                    tempX[k,j,i]=rand_noise_image[te2,te]\n",
    "    \n",
    "    else:\n",
    "        \n",
    "        for i in range(x1,x2):\n",
    "            \n",
    "            for j in range(y1,y2):\n",
    "                te = i-x1\n",
    "                te2= j-y1\n",
    "                tempX[j,i]=rand_noise_image[te2,te]\n",
    "                \n",
    "    return tempX"
   ]
  },
  {
   "cell_type": "raw",
   "metadata": {},
   "source": [
    "def killregion_rand(image,xdim,ydim):  \n",
    "    tempX=image.copy()\n",
    "    x1=xdim[0]\n",
    "    x2=xdim[1]\n",
    "    y1=ydim[0]\n",
    "    y2=ydim[1]\n",
    "    \n",
    "    if tempX.ndim ==3:\n",
    "        \n",
    "        for k in range(tempX.shape[0]):\n",
    "            \n",
    "            for i in range(x1,x2):\n",
    "                \n",
    "                for j in range(y1,y2):\n",
    "                    \n",
    "                    tempX[k,j,i]=0\n",
    "    \n",
    "    else:\n",
    "        \n",
    "        for i in range(x1,x2):\n",
    "            \n",
    "            for j in range(y1,y2):\n",
    "                \n",
    "                tempX[j,i]=0\n",
    "                \n",
    "    return tempX\n",
    "\n",
    "\n",
    "#help (np.zeros)\n",
    "def hotregion_rand(image,xdim,ydim):  \n",
    "    tempX=image.copy()\n",
    "    x1=xdim[0]\n",
    "    x2=xdim[1]\n",
    "    y1=ydim[0]\n",
    "    y2=ydim[1]\n",
    "    if tempX.ndim ==3:\n",
    "        \n",
    "        for k in range(tempX.shape[0]):\n",
    "            \n",
    "            for i in range(x1,x2):\n",
    "                \n",
    "                for j in range(y1,y2):\n",
    "                    \n",
    "                    tempX[:,j,i]=np.max(image)\n",
    "    else:\n",
    "        \n",
    "        for i in range(x1,x2):\n",
    "            \n",
    "            for j in range(y1,y2):\n",
    "                \n",
    "                tempX[j,i]=np.max(image)\n",
    "                \n",
    "    return tempX"
   ]
  },
  {
   "cell_type": "markdown",
   "metadata": {},
   "source": [
    "# Plotting my bad data image"
   ]
  },
  {
   "cell_type": "raw",
   "metadata": {
    "collapsed": true
   },
   "source": [
    "import random\n",
    "def insert_hot_tower(input_image):\n",
    "   to_ret=np.copy(input_image)\n",
    "\n",
    "   height_range=range(0,to_ret.shape[0],5)\n",
    "   width_range=range(0,to_ret.shape[1],5)\n",
    "\n",
    "   y_cord=random.choice(height_range)#pick random y for a towers lower left point\n",
    "   x_cord=random.choice(width_range)#pick random x ---do---\n",
    "\n",
    "   for channel_y in range(y_cord,y_cord+5):\n",
    "      for channel_x in range(x_cord,x_cord+5):\n",
    "         to_ret[channel_y,channel_x]*=1e4 #a very large number representing a hot tower\n",
    "\n",
    "   to_ret_max=np.amax(to_ret)\n",
    "   to_ret=to_ret/float(to_ret_max)      #renormalize\n",
    "   return to_ret"
   ]
  },
  {
   "cell_type": "raw",
   "metadata": {},
   "source": [
    "input_image1=data_sample1[0]\n",
    "xdim=(40,50)\n",
    "ydim=(20,30)\n",
    "\n",
    "deadregion_image=killregion(input_image1,xdim,ydim)\n",
    "\n",
    "hotregion_image= hotregion(input_image1,xdim,ydim)\n",
    "\n",
    "random_noise_region= create_random_noise_region_in_image(input_image1,xdim,ydim)\n",
    "\n",
    "print \"Shape of image is: \" ,random_noise_region.shape\n",
    "#print 'input image is \\n '\n",
    "#print deadregion_image\n",
    "im=plt.imshow(random_noise_region,cmap=cm.coolwarm)\n",
    "plt.show()\n",
    "plt.clf()\n",
    "\n",
    "im=plt.imshow(hotregion_image,cmap=cm.coolwarm)\n",
    "plt.show()\n",
    "plt.clf()#plt.clf clears the figure and it's axis but leaves the window open. \n",
    "         #as opposed to plt.close which closes the window. If you are showing many images at a time without\n",
    "         #closing the window it is better.\n",
    "im=plt.imshow(deadregion_image,cmap=cm.coolwarm)\n",
    "plt.show()\n",
    "plt.clf()\n",
    "#input_image=np.reshape(input_image,(input_image.shape[0],input_image.shape[1]))\n"
   ]
  },
  {
   "cell_type": "markdown",
   "metadata": {},
   "source": [
    "# I would like to create about 100 bad data images"
   ]
  },
  {
   "cell_type": "code",
   "execution_count": 6,
   "metadata": {
    "scrolled": false
   },
   "outputs": [
    {
     "name": "stdout",
     "output_type": "stream",
     "text": [
      "Shape of regular image is:  (999, 72, 84)\n",
      "Shape of dead image is:  (999, 72, 84)\n",
      "Shape of hot image is:  (999, 72, 84)\n",
      "\n"
     ]
    },
    {
     "data": {
      "image/png": "[encoded data removed]",
      "text/plain": [
       "<matplotlib.figure.Figure at 0x7f62f3cc8b50>"
      ]
     },
     "metadata": {},
     "output_type": "display_data"
    },
    {
     "data": {
      "image/png": "[encoded data removed]",
      "text/plain": [
       "<matplotlib.figure.Figure at 0x7f62f3c11150>"
      ]
     },
     "metadata": {},
     "output_type": "display_data"
    },
    {
     "data": {
      "image/png": "[encoded data removed]",
      "text/plain": [
       "<matplotlib.figure.Figure at 0x7f62f3b65f50>"
      ]
     },
     "metadata": {},
     "output_type": "display_data"
    }
   ],
   "source": [
    "input_images=data_sample[:]\n",
    "hotregion_image=[]\n",
    "deadregion_image=[]\n",
    "\n",
    "for k in input_images:\n",
    "    a=np.random.randint(input_images.shape[2]-1)\n",
    "    b=np.random.randint(input_images.shape[1]-1)\n",
    "    xdim=(a,a+1)\n",
    "    ydim=(b,b+1)\n",
    "    xdim=(40,43)\n",
    "    ydim=(30,33)\n",
    "    \n",
    "    hotregion_image.append( u.hotregion(k,xdim,ydim))\n",
    "    deadregion_image.append(u.killregion(k,xdim,ydim))\n",
    "       \n",
    "    \n",
    "hotregion_image=np.array(hotregion_image)\n",
    "deadregion_image=np.array(deadregion_image)\n",
    "\n",
    "print \"Shape of regular image is: \",input_images.shape\n",
    "print \"Shape of dead image is: \" ,deadregion_image.shape\n",
    "print \"Shape of hot image is: \" ,hotregion_image.shape\n",
    "\n",
    "print ''\n",
    "im=plt.imshow(input_images[1],cmap=cm.coolwarm)\n",
    "plt.colorbar()\n",
    "plt.show()\n",
    "plt.clf()\n",
    "\n",
    "im=plt.imshow(hotregion_image[1],cmap=cm.coolwarm)\n",
    "plt.colorbar()\n",
    "plt.show()\n",
    "plt.clf()#plt.clf clears the figure and it's axis but leaves the window open. \n",
    "         #as opposed to plt.close which closes the window. If you are showing many images at a time without\n",
    "         #closing the window it is better.\n",
    "\n",
    "im=plt.imshow(deadregion_image[1],cmap=cm.coolwarm)\n",
    "plt.colorbar()\n",
    "plt.show()\n",
    "plt.clf()\n",
    "#input_image=np.reshape(input_image,(input_image.shape[0],input_image.shape[1]))\n"
   ]
  },
  {
   "cell_type": "markdown",
   "metadata": {},
   "source": [
    "# Let's start using keras and create a model"
   ]
  },
  {
   "cell_type": "raw",
   "metadata": {
    "collapsed": true
   },
   "source": [
    "import logging\n",
    "from keras.layers import Input, Dense, Conv2D, MaxPooling2D, UpSampling2D,LeakyReLU,Flatten,Dropout\n",
    "from keras.models import Model\n",
    "from keras import backend as K\n",
    "from keras import callbacks\n",
    "import argparse\n",
    "import pandas as pd"
   ]
  },
  {
   "cell_type": "raw",
   "metadata": {
    "collapsed": true
   },
   "source": [
    "#helper fucntions\n",
    "def get_data(file_name,group='DigiTask_Occupancy_depth_depth1',data_type='good'):\n",
    "   \"picks samples out of a hdf file and return a numpy array\"\n",
    "   data_folder=os.environ[\"DATA\"].replace(\"good\",data_type)\n",
    "   input_file=h5py.File(data_folder+\"/\"+file_name,'r')\n",
    "   logging.debug(\"Loading data from file: \"+file_name)\n",
    "   ret_array=np.array((input_file[group]))\n",
    "   logging.debug(\"Supplying \"+str(ret_array.shape[0])+\" samples\")\n",
    "   ret_array_2=np.empty([ret_array.shape[0],2])\n",
    "   if 'bad' in file_name:\n",
    "      ret_array_2[:,:]=[0,1]\n",
    "   else:\n",
    "      ret_array_2[:,:]=[1,0]\n",
    "   return ret_array,ret_array_2\n",
    "\n",
    "\n",
    "   \n",
    "def get_num_samples(file_list,group='EBOccupancyTask_EBOT_rec_hit_occupancy'):\n",
    "   \"returns total number of samples in a list of hdf files\"\n",
    "   data_folder=os.environ[\"DATA\"]\n",
    "   total_count=0\n",
    "   for filename in file_list:\n",
    "      input_file=h5py.File(data_folder+\"/\"+filename,'r')\n",
    "      data=np.array((input_file[group]))\n",
    "      total_count+=data.shape[0]\n",
    "   return total_count\n",
    "\n",
    "\n",
    "class train_histories(callbacks.Callback):\n",
    "   def on_train_begin(self, logs={}):\n",
    "      self.aucs = []\n",
    "      self.epochwise_losses = []\n",
    "      self.epochwise_val_losses = []\n",
    "      self.batchwise_losses = []\n",
    "\n",
    "\n",
    "   def on_train_end(self, logs={}):\n",
    "      return\n",
    "\n",
    "   def on_epoch_begin(self, epoch, logs={}):\n",
    "      return\n",
    "\n",
    "   def on_epoch_end(self, epoch, logs={}):\n",
    "      self.epochwise_losses.append(logs.get('loss'))\n",
    "      self.epochwise_val_losses.append(logs.get('val_loss'))\n",
    "      return\n",
    "\n",
    "   def on_batch_begin(self, batch, logs={}):\n",
    "      return\n",
    "\n",
    "   def on_batch_end(self, batch, logs={}):\n",
    "      self.batchwise_losses.append(logs.get('loss'))\n",
    "      return"
   ]
  },
  {
   "cell_type": "markdown",
   "metadata": {},
   "source": [
    "# With keras"
   ]
  },
  {
   "cell_type": "raw",
   "metadata": {
    "scrolled": true
   },
   "source": [
    "from keras.models import Sequential\n",
    "from keras.layers import Dense, Activation\n",
    "\n",
    "model = Sequential([\n",
    "    Dense(32, input_shape=(Xtrain.size,)),\n",
    "    Activation('relu'),\n",
    "    Dense(10),\n",
    "    Activation('softmax'),\n",
    "])\n",
    "\n",
    "# For a binary classification problem\n",
    "model.compile(optimizer='rmsprop',\n",
    "              loss='binary_crossentropy',\n",
    "              metrics=['accuracy'])\n",
    "model.fit(x=Xtrain, y=Labels)     \n",
    "#batch_size=None, epochs=1, verbose=1, callbacks=None,     \n",
    "#validation_split=0.0, validation_data=None, shuffle=True, class_weight=None,\n",
    "#sample_weight=None, initial_epoch=0, steps_per_epoch=None, validation_steps=None)"
   ]
  },
  {
   "cell_type": "raw",
   "metadata": {},
   "source": [
    "# This returns a tensor\n",
    "inputs = Input(shape=(X.shape))\n",
    "\n",
    "# a layer instance is callable on a tensor, and returns a tensor\n",
    "x = Dense(64, activation='relu')(inputs)\n",
    "x = Dense(64, activation='relu')(x)\n",
    "predictions = Dense(1, activation='softmax')(x)\n",
    "\n",
    "# This creates a model that includes\n",
    "# the Input layer and three Dense layers\n",
    "model = Model(inputs=inputs, outputs=predictions)\n",
    "model.compile(optimizer='rmsprop',\n",
    "              loss='binary_crossentropy',\n",
    "              metrics=['accuracy'])\n",
    "model.fit(inputs, Labels)  # starts training"
   ]
  },
  {
   "cell_type": "raw",
   "metadata": {},
   "source": [
    "#get input image shape\n",
    "#(_,image_height,image_width)=get_data(input_file[group],image_type)[0].shape\n",
    "\n",
    "#load or build the model\n",
    "input_img=Input(shape=(1,data_samplesize,image_width))\n",
    "\n",
    "    #encoder\n",
    "x=Conv2D(6,(5,5),padding='same',data_format='channels_first',name='convA_5x5')(input_img)\n",
    "x=LeakyReLU(alpha=0.1)(x)\n",
    "x=MaxPooling2D((5,5),padding='same',data_format='channels_first',name='pool5x5')(x)\n",
    "logging.debug(str(x.shape))"
   ]
  },
  {
   "cell_type": "markdown",
   "metadata": {
    "collapsed": true
   },
   "source": [
    "# Trying out SKlearn "
   ]
  },
  {
   "cell_type": "markdown",
   "metadata": {},
   "source": [
    "Adding the bad data images to the sample"
   ]
  },
  {
   "cell_type": "code",
   "execution_count": 7,
   "metadata": {},
   "outputs": [
    {
     "data": {
      "text/plain": [
       "(999, 72, 84)"
      ]
     },
     "execution_count": 7,
     "metadata": {},
     "output_type": "execute_result"
    }
   ],
   "source": [
    "data_sample.shape\n"
   ]
  },
  {
   "cell_type": "code",
   "execution_count": 8,
   "metadata": {},
   "outputs": [
    {
     "name": "stdout",
     "output_type": "stream",
     "text": [
      "(1998, 72, 84)\n",
      "(2997, 72, 84)\n"
     ]
    }
   ],
   "source": [
    "data_sample=np.append(data_sample,(deadregion_image),axis=0)\n",
    "print data_sample.shape\n",
    "\n",
    "data_sample=np.append(data_sample,(hotregion_image),axis=0)\n",
    "print data_sample.shape\n",
    "\n",
    "#data_sample=np.append(data_sample,(random_noise_region),axis=0)\n",
    "#print data_sample.shape\n"
   ]
  },
  {
   "cell_type": "markdown",
   "metadata": {},
   "source": [
    "Insert a column in every image of 1's or True ( this will represent it's label)"
   ]
  },
  {
   "cell_type": "code",
   "execution_count": 9,
   "metadata": {},
   "outputs": [
    {
     "data": {
      "text/plain": [
       "(2997, 6048)"
      ]
     },
     "execution_count": 9,
     "metadata": {},
     "output_type": "execute_result"
    }
   ],
   "source": [
    "sample=np.reshape(data_sample,(data_sample.shape[0],data_sample.shape[1]*data_sample.shape[2]))\n",
    "sample.shape\n"
   ]
  },
  {
   "cell_type": "code",
   "execution_count": 10,
   "metadata": {},
   "outputs": [
    {
     "data": {
      "text/plain": [
       "(2997, 6049)"
      ]
     },
     "execution_count": 10,
     "metadata": {},
     "output_type": "execute_result"
    }
   ],
   "source": [
    "#help(np.append)\n",
    "sample=np.append(sample,np.zeros((sample.shape[0],1)),axis=1 )\n",
    "sample.shape"
   ]
  },
  {
   "cell_type": "code",
   "execution_count": 11,
   "metadata": {},
   "outputs": [
    {
     "name": "stdout",
     "output_type": "stream",
     "text": [
      "2\n",
      "1\n"
     ]
    }
   ],
   "source": [
    "#this is because I am going to add the hot and dead region images\n",
    "\n",
    "for i in range(2,0,-1):\n",
    "    sample[-i*input_images.shape[0]:,-1:]=3-i\n",
    "    print i\n",
    "#if you want it as intergers leave this as it is\n",
    "#if you would like it as a vector then do this\n",
    "#y=to_categorical(y,4)\n"
   ]
  },
  {
   "cell_type": "code",
   "execution_count": 12,
   "metadata": {},
   "outputs": [
    {
     "name": "stdout",
     "output_type": "stream",
     "text": [
      "[[ 0.]\n",
      " [ 0.]\n",
      " [ 0.]\n",
      " ..., \n",
      " [ 2.]\n",
      " [ 2.]\n",
      " [ 2.]]\n"
     ]
    }
   ],
   "source": [
    "print sample[:,-1:]"
   ]
  },
  {
   "cell_type": "code",
   "execution_count": 13,
   "metadata": {
    "scrolled": true
   },
   "outputs": [
    {
     "data": {
      "text/plain": [
       "(2997, 1)"
      ]
     },
     "execution_count": 13,
     "metadata": {},
     "output_type": "execute_result"
    }
   ],
   "source": [
    "sample[:,-1:].shape"
   ]
  },
  {
   "cell_type": "markdown",
   "metadata": {},
   "source": [
    "Let's define our Data and Lables"
   ]
  },
  {
   "cell_type": "code",
   "execution_count": 14,
   "metadata": {},
   "outputs": [
    {
     "name": "stdout",
     "output_type": "stream",
     "text": [
      "(2997, 6048) \n",
      "(2997,)\n"
     ]
    }
   ],
   "source": [
    "X=sample[:,:-1]\n",
    "y=sample[:,-1]\n",
    "print X.shape,'\\n',y.shape"
   ]
  },
  {
   "cell_type": "raw",
   "metadata": {
    "collapsed": true
   },
   "source": [
    "#Xtrain=sample[:599,:,:-1]\n",
    "#Xval=sample[599:799,:,:-1]\n",
    "#Xtest=sample[799:,:,:-1]\n",
    "#ytrain=sample[:599,1,-1:]\n",
    "#yval=sample[599:799,1,-1:]\n",
    "#ytest=sample[799:,1,-1:]\n",
    "\n",
    "print 'fist shape of X is: ',X.shape\n",
    "#X=np.reshape(X,(X.shape[0],X.shape[1]*X.shape[2]))\n",
    "#print 'new shape of X is: ',X.shape\n",
    "\n",
    "print '\\nfist shape of y is: ',y.shape\n",
    "#y=np.reshape(y,(y.shape[0],y.shape[1]*y.shape[2]))\n",
    "#print 'new shape of y is: ',y.shape\n",
    "\n",
    "print '\\nfist shape of Xtrain is: ',Xtrain.shape\n",
    "Xtrain=np.reshape(Xtrain,(Xtrain.shape[0],Xtrain.shape[1]*Xtrain.shape[2]))\n",
    "print 'new shape of Xtrain is: ',Xtrain.shape\n",
    "\n",
    "print '\\nfist shape of Xval is: ',Xval.shape\n",
    "Xval=np.reshape(Xval,(Xval.shape[0],Xval.shape[1]*Xval.shape[2]))\n",
    "print 'new shape of Xval is: ',Xval.shape\n",
    "\n",
    "print '\\nfist shape of Xtest is: ',Xtest.shape\n",
    "Xtest=np.reshape(Xtest,(Xtest.shape[0],Xtest.shape[1]*Xtest.shape[2]))\n",
    "print 'new shape of Xtest is: ',Xtest.shape\n",
    "\n",
    "print '\\nfist shape of ytrain is: ',ytrain.shape\n",
    "#ytrain=np.reshape(ytrain,(ytrain.shape[0],ytrain.shape[1]*ytrain.shape[1]))\n",
    "#print 'new shape of ytrain is: ',ytrain.shape\n",
    "\n",
    "#\n",
    "print '\\nfist shape of yval is: ',yval.shape\n",
    "#yval=np.reshape(yval,(yval.shape[0],yval.shape[1]*yval.shape[2]))\n",
    "#print 'new shape of yval is: ',yval.shape\n",
    "\n",
    "print '\\nfist shape of ytest is: ',ytest.shape\n",
    "#ytest=np.reshape(ytest,(ytest.shape[0],ytest.shape[1]*ytest.shape[2]))\n",
    "#print 'new shape of ytest is: ',ytest.shape\n",
    "#"
   ]
  },
  {
   "cell_type": "code",
   "execution_count": 21,
   "metadata": {},
   "outputs": [
    {
     "name": "stdout",
     "output_type": "stream",
     "text": [
      "(1798, 6048)\n",
      "(1199, 6048)\n",
      "(1798,)\n",
      "(1199,)\n"
     ]
    }
   ],
   "source": [
    "from sklearn.neural_network import MLPClassifier #this one takes too long\n",
    "from sklearn.linear_model import LogisticRegression\n",
    "from sklearn.metrics import roc_curve,roc_auc_score,auc,confusion_matrix,accuracy_score\n",
    "from sklearn.cross_validation import train_test_split,cross_val_score\n",
    "Xtrain,Xtest,ytrain, ytest=train_test_split(X,y,test_size=0.4,random_state =5 )\n",
    "\n",
    "print Xtrain.shape\n",
    "print Xtest.shape\n",
    "print ytrain.shape\n",
    "print ytest.shape"
   ]
  },
  {
   "cell_type": "code",
   "execution_count": 31,
   "metadata": {},
   "outputs": [
    {
     "name": "stdout",
     "output_type": "stream",
     "text": [
      "0.564617238036\n"
     ]
    }
   ],
   "source": [
    "MLP = MLPClassifier( hidden_layer_sizes=(100,15), activation='relu', solver='adam',\n",
    "                    alpha=0.0001, batch_size='auto', learning_rate='adaptive', learning_rate_init=0.001,\n",
    "                    power_t=0.5, max_iter=1200, shuffle=True, random_state=None, tol=0.0001, verbose=False,\n",
    "                    warm_start=False, momentum=0.9, nesterovs_momentum=True, early_stopping=True,\n",
    "                    validation_fraction=0.1, beta_1=0.9, beta_2=0.999, epsilon=1e-08)\n",
    "scores= cross_val_score(MLP,Xtrain,ytrain,cv=10,scoring='accuracy')\n",
    "print scores.mean()"
   ]
  },
  {
   "cell_type": "code",
   "execution_count": 18,
   "metadata": {},
   "outputs": [
    {
     "data": {
      "text/plain": [
       "MLPClassifier(activation='relu', alpha=0.0001, batch_size='auto', beta_1=0.9,\n",
       "       beta_2=0.999, early_stopping=True, epsilon=1e-08,\n",
       "       hidden_layer_sizes=(100,), learning_rate='constant',\n",
       "       learning_rate_init=0.001, max_iter=200, momentum=0.9,\n",
       "       nesterovs_momentum=True, power_t=0.5, random_state=None,\n",
       "       shuffle=True, solver='adam', tol=0.0001, validation_fraction=0.1,\n",
       "       verbose=False, warm_start=False)"
      ]
     },
     "execution_count": 18,
     "metadata": {},
     "output_type": "execute_result"
    }
   ],
   "source": [
    "MLP.fit( Xtrain ,ytrain) "
   ]
  },
  {
   "cell_type": "code",
   "execution_count": 22,
   "metadata": {},
   "outputs": [
    {
     "name": "stdout",
     "output_type": "stream",
     "text": [
      "(1199,)\n",
      "0.666388657214\n"
     ]
    }
   ],
   "source": [
    "pred=MLP.predict(Xtest)\n",
    "print pred.shape\n",
    "print accuracy_score(ytest,pred)\n"
   ]
  },
  {
   "cell_type": "code",
   "execution_count": 24,
   "metadata": {},
   "outputs": [
    {
     "name": "stdout",
     "output_type": "stream",
     "text": [
      "1.0\n"
     ]
    }
   ],
   "source": [
    "logreg=LogisticRegression()\n",
    "scores= cross_val_score(logreg,Xtrain,ytrain,cv=10,scoring='accuracy')\n",
    "print scores.mean()"
   ]
  },
  {
   "cell_type": "code",
   "execution_count": 32,
   "metadata": {},
   "outputs": [
    {
     "data": {
      "text/plain": [
       "LogisticRegression(C=1.0, class_weight=None, dual=False, fit_intercept=True,\n",
       "          intercept_scaling=1, max_iter=100, multi_class='ovr', n_jobs=1,\n",
       "          penalty='l2', random_state=None, solver='liblinear', tol=0.0001,\n",
       "          verbose=0, warm_start=False)"
      ]
     },
     "execution_count": 32,
     "metadata": {},
     "output_type": "execute_result"
    }
   ],
   "source": [
    "logreg.fit(Xtrain,ytrain)"
   ]
  },
  {
   "cell_type": "markdown",
   "metadata": {
    "collapsed": true
   },
   "source": [
    "# Evaluating the model "
   ]
  },
  {
   "cell_type": "code",
   "execution_count": null,
   "metadata": {
    "collapsed": true
   },
   "outputs": [],
   "source": [
    "pred=logreg.predict(Xtest)\n",
    "print pred.shape\n",
    "print metrics.accuracy_score(ytest,pred)"
   ]
  },
  {
   "cell_type": "code",
   "execution_count": null,
   "metadata": {
    "collapsed": true
   },
   "outputs": [],
   "source": [
    "#calcualte null accuracy\n",
    "max(ytest.mean(),1-ytest.mean())"
   ]
  },
  {
   "cell_type": "code",
   "execution_count": null,
   "metadata": {
    "collapsed": true
   },
   "outputs": [],
   "source": [
    "#Confusion matrix\n",
    "print metrics.confusion_matrix(ytest,pred)"
   ]
  },
  {
   "cell_type": "code",
   "execution_count": null,
   "metadata": {
    "collapsed": true
   },
   "outputs": [],
   "source": [
    "print'True', ytest[0:15]\n",
    "print 'Pred', pred[0:15]"
   ]
  },
  {
   "cell_type": "code",
   "execution_count": null,
   "metadata": {
    "collapsed": true
   },
   "outputs": [],
   "source": [
    "#save confusion matrix and slice into 4 pieces\n",
    "confusion= metrics.confusion_matrix(ytest,pred)\n",
    "TP=confusion[1,1]\n",
    "TN=confusion[0,0]\n",
    "FP=confusion[0,1]\n",
    "FN=confusion[1,0]"
   ]
  },
  {
   "cell_type": "code",
   "execution_count": null,
   "metadata": {
    "collapsed": true
   },
   "outputs": [],
   "source": [
    "print TP\n",
    "print TN\n",
    "print FP\n",
    "print FN"
   ]
  },
  {
   "cell_type": "code",
   "execution_count": null,
   "metadata": {
    "collapsed": true
   },
   "outputs": [],
   "source": [
    "#Clasification Accuracy\n",
    "#how often is the Clf correct?\n",
    "print (TP+TN)/ float(TP+TN+FP+FN)\n",
    "print metrics.accuracy_score(ytest,pred)"
   ]
  },
  {
   "cell_type": "code",
   "execution_count": null,
   "metadata": {
    "collapsed": true
   },
   "outputs": [],
   "source": [
    "#Clasification Error\n",
    "# how often is it incorrect?\n",
    "print (FP+FN)/ float(TP+TN+FP+FN)\n",
    "print 1- metrics.accuracy_score(ytest,pred)"
   ]
  },
  {
   "cell_type": "code",
   "execution_count": null,
   "metadata": {
    "collapsed": true
   },
   "outputs": [],
   "source": [
    "#Sensitivity\n",
    "# How often if the prediction correct when the actual value is pos. \n",
    "#AKA True pos or Recall\n",
    "\n",
    "print TP/ float(TP+FN)\n",
    "print metrics.recall_score(ytest,pred)"
   ]
  },
  {
   "cell_type": "code",
   "execution_count": null,
   "metadata": {
    "collapsed": true
   },
   "outputs": [],
   "source": [
    "#Specificity \n",
    "# When the actual result is neg how often is it correct?\n",
    "print TN/ float(TN+FP)"
   ]
  },
  {
   "cell_type": "code",
   "execution_count": null,
   "metadata": {
    "collapsed": true
   },
   "outputs": [],
   "source": [
    "#false positive\n",
    "# When the actual value is negative how often is it incorrect\n",
    "print FP/ float(TN+FP)"
   ]
  },
  {
   "cell_type": "code",
   "execution_count": null,
   "metadata": {
    "collapsed": true
   },
   "outputs": [],
   "source": [
    "#Precision\n",
    "#When a positive value is predicted, how often is it correct?\n",
    "print TP/ float(TP +FP)\n",
    "print metrics.precision_score(ytest,pred)"
   ]
  },
  {
   "cell_type": "markdown",
   "metadata": {},
   "source": [
    "# Adjusting the clasification threshold"
   ]
  },
  {
   "cell_type": "code",
   "execution_count": null,
   "metadata": {
    "collapsed": true
   },
   "outputs": [],
   "source": [
    "#print the first 10 predicted responses\n",
    "logreg.predict(Xtest)[0:10]"
   ]
  },
  {
   "cell_type": "code",
   "execution_count": null,
   "metadata": {
    "collapsed": true
   },
   "outputs": [],
   "source": [
    "#print the first 10 predicted probabilities of class membership\n",
    "logreg.predict_proba(Xtest)[0:10,:]"
   ]
  },
  {
   "cell_type": "code",
   "execution_count": null,
   "metadata": {
    "collapsed": true
   },
   "outputs": [],
   "source": [
    "#print the first 10 predicted probabilities for class 1\n",
    "logreg.predict_proba(Xtest)[0:10,1]"
   ]
  },
  {
   "cell_type": "code",
   "execution_count": null,
   "metadata": {
    "collapsed": true
   },
   "outputs": [],
   "source": [
    "#store the predicted probabilities for class 1\n",
    "y_pred_prob=logreg.predict_proba(Xtest)[:,1]"
   ]
  },
  {
   "cell_type": "code",
   "execution_count": null,
   "metadata": {
    "collapsed": true
   },
   "outputs": [],
   "source": [
    "#allow plots to appear in the notebook\n",
    "%matplotlib inline\n",
    "plt.rcParams['font.size']=14"
   ]
  },
  {
   "cell_type": "code",
   "execution_count": null,
   "metadata": {
    "collapsed": true
   },
   "outputs": [],
   "source": [
    "#histogram of predicted probabilities\n",
    "plt.hist(y_pred_prob)#bins=8)\n",
    "#plt.xlim(0,1)\n",
    "plt.title(\"Histogram of predicted probabilities\")\n",
    "plt.xlabel('Predicted probability')\n",
    "plt.ylabel('Frequency')"
   ]
  },
  {
   "cell_type": "markdown",
   "metadata": {},
   "source": [
    "# Decrease the threshold "
   ]
  },
  {
   "cell_type": "code",
   "execution_count": null,
   "metadata": {
    "collapsed": true
   },
   "outputs": [],
   "source": [
    "#predict good if the predicted probability is greater than 0.3\n",
    "from sklearn.preprocessing import binarize\n",
    "pred= binarize(y_pred_prob,0.3)[0]"
   ]
  },
  {
   "cell_type": "code",
   "execution_count": null,
   "metadata": {
    "collapsed": true
   },
   "outputs": [],
   "source": [
    "#print the first 10 predicted probabilities\n",
    "y_pred_prob[0:10]"
   ]
  },
  {
   "cell_type": "code",
   "execution_count": null,
   "metadata": {
    "collapsed": true
   },
   "outputs": [],
   "source": [
    "#print the first 10 predicted classes with new thershold\n",
    "pred[0:10]"
   ]
  },
  {
   "cell_type": "code",
   "execution_count": null,
   "metadata": {
    "collapsed": true
   },
   "outputs": [],
   "source": [
    "#print old confusion matrix\n",
    "print confusion"
   ]
  },
  {
   "cell_type": "code",
   "execution_count": null,
   "metadata": {
    "collapsed": true
   },
   "outputs": [],
   "source": [
    "#print new confusion matrix\n",
    "print metrics.confusion_matrix(ytest,pred)"
   ]
  },
  {
   "cell_type": "markdown",
   "metadata": {},
   "source": [
    "# ROC Curves and Area Under the Curve (AUC)"
   ]
  },
  {
   "cell_type": "code",
   "execution_count": null,
   "metadata": {
    "collapsed": true
   },
   "outputs": [],
   "source": [
    "fpr,tpr,thresholds= metrics.roc_curve(ytest,y_pred_prob)\n",
    "plt.plot(fpr,tpr)\n",
    "#plt.xlim([0.0,1.0])\n",
    "#plt.ylim([0.0,1.0])\n",
    "plt.title('ROC Curve for good data clf')\n",
    "plt.xlabel('False Pos Rate (1-Specificity)')\n",
    "plt.ylabel('True Pos Rate(Sensitivity)')\n",
    "plt.grid(True)"
   ]
  },
  {
   "cell_type": "code",
   "execution_count": null,
   "metadata": {
    "collapsed": true
   },
   "outputs": [],
   "source": [
    "#define a function that accepts a threshold and prints sensitivity and specificity\n",
    "def evalualte_threshold(threshold):\n",
    "    print 'Sensitivity:',tpr[thresholds > threshold][-1]\n",
    "    print 'Specificity:',1- fpr[thresholds > threshold][-1]"
   ]
  },
  {
   "cell_type": "code",
   "execution_count": null,
   "metadata": {
    "collapsed": true
   },
   "outputs": [],
   "source": [
    "evalualte_threshold(.3)"
   ]
  },
  {
   "cell_type": "markdown",
   "metadata": {},
   "source": [
    "# AUC is the percentage of the ROC plot that is under the curve"
   ]
  },
  {
   "cell_type": "code",
   "execution_count": null,
   "metadata": {
    "collapsed": true
   },
   "outputs": [],
   "source": [
    "print metrics.roc_auc_score(ytest,y_pred_prob)"
   ]
  },
  {
   "cell_type": "markdown",
   "metadata": {},
   "source": [
    "This is useful as a single number summary of classifier performance"
   ]
  },
  {
   "cell_type": "code",
   "execution_count": null,
   "metadata": {
    "collapsed": true
   },
   "outputs": [],
   "source": [
    "# Calculate cross validated AUC\n",
    "from sklearn.cross_validation import cross_val_score\n",
    "cross_val_score(logreg,X,y,cv=10,scoring='roc_auc').mean()"
   ]
  },
  {
   "cell_type": "code",
   "execution_count": null,
   "metadata": {
    "collapsed": true
   },
   "outputs": [],
   "source": []
  }
 ],
 "metadata": {
  "kernelspec": {
   "display_name": "Python 2",
   "language": "python",
   "name": "python2"
  },
  "language_info": {
   "codemirror_mode": {
    "name": "ipython",
    "version": 2
   },
   "file_extension": ".py",
   "mimetype": "text/x-python",
   "name": "python",
   "nbconvert_exporter": "python",
   "pygments_lexer": "ipython2",
   "version": "2.7.13"
  }
 },
 "nbformat": 4,
 "nbformat_minor": 2
}
